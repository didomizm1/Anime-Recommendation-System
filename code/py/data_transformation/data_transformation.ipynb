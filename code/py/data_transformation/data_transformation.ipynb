{
 "cells": [
  {
   "cell_type": "code",
   "execution_count": 1,
   "metadata": {
    "collapsed": true
   },
   "outputs": [
    {
     "name": "stdout",
     "output_type": "stream",
     "text": [
      "Pandas Version Number: 1.4.2\n"
     ]
    }
   ],
   "source": [
    "# Pandas program to condense user ratings into averages in order to build user profiles\n",
    "import glob\n",
    "import pandas as pd\n",
    "print(\"Pandas Version Number: \" + pd.__version__)"
   ]
  },
  {
   "cell_type": "code",
   "execution_count": 2,
   "outputs": [
    {
     "name": "stdout",
     "output_type": "stream",
     "text": [
      "Number of genres: 42\n"
     ]
    },
    {
     "data": {
      "text/plain": "['Action',\n 'Adventure',\n 'Cars',\n 'Comedy',\n 'Dementia',\n 'Demons',\n 'Drama',\n 'Ecchi',\n 'Fantasy',\n 'Game',\n 'Harem',\n 'Historical',\n 'Horror',\n 'Josei',\n 'Kids',\n 'Magic',\n 'Martial Arts',\n 'Mecha',\n 'Military',\n 'Music',\n 'Mystery',\n 'Parody',\n 'Police',\n 'Psychological',\n 'Romance',\n 'Samurai',\n 'School',\n 'Sci-Fi',\n 'Seinen',\n 'Shoujo',\n 'Shoujo Ai',\n 'Shounen',\n 'Shounen Ai',\n 'Slice of Life',\n 'Space',\n 'Sports',\n 'Super Power',\n 'Supernatural',\n 'Thriller',\n 'Unknown',\n 'Vampire',\n 'Yaoi']"
     },
     "metadata": {},
     "output_type": "display_data"
    }
   ],
   "source": [
    "# Find total number of genres\n",
    "anime_list_df = pd.read_csv('../../../data/cleaned/anime_list.csv')\n",
    "genres = []\n",
    "for i, row in anime_list_df.iterrows():\n",
    "    current_row_genres = row['Genres']\n",
    "    current_row_genres_list = current_row_genres.split(\", \")\n",
    "\n",
    "    # Ensure there are no duplicate values by using the properties of a set\n",
    "    genres = list(set(genres + current_row_genres_list))\n",
    "\n",
    "# Sort and display genres along with total number of genres\n",
    "genres.sort()\n",
    "print(\"Number of genres: \" + str(len(genres)))\n",
    "display(genres)"
   ],
   "metadata": {
    "collapsed": false
   }
  },
  {
   "cell_type": "code",
   "execution_count": 3,
   "outputs": [
    {
     "data": {
      "text/plain": "Empty DataFrame\nColumns: [user_id, Action, Adventure, Cars, Comedy, Dementia, Demons, Drama, Ecchi, Fantasy, Game, Harem, Historical, Horror, Josei, Kids, Magic, Martial Arts, Mecha, Military, Music, Mystery, Parody, Police, Psychological, Romance, Samurai, School, Sci-Fi, Seinen, Shoujo, Shoujo Ai, Shounen, Shounen Ai, Slice of Life, Space, Sports, Super Power, Supernatural, Thriller, Unknown, Vampire, Yaoi]\nIndex: []\n\n[0 rows x 43 columns]",
      "text/html": "<div>\n<style scoped>\n    .dataframe tbody tr th:only-of-type {\n        vertical-align: middle;\n    }\n\n    .dataframe tbody tr th {\n        vertical-align: top;\n    }\n\n    .dataframe thead th {\n        text-align: right;\n    }\n</style>\n<table border=\"1\" class=\"dataframe\">\n  <thead>\n    <tr style=\"text-align: right;\">\n      <th></th>\n      <th>user_id</th>\n      <th>Action</th>\n      <th>Adventure</th>\n      <th>Cars</th>\n      <th>Comedy</th>\n      <th>Dementia</th>\n      <th>Demons</th>\n      <th>Drama</th>\n      <th>Ecchi</th>\n      <th>Fantasy</th>\n      <th>...</th>\n      <th>Shounen Ai</th>\n      <th>Slice of Life</th>\n      <th>Space</th>\n      <th>Sports</th>\n      <th>Super Power</th>\n      <th>Supernatural</th>\n      <th>Thriller</th>\n      <th>Unknown</th>\n      <th>Vampire</th>\n      <th>Yaoi</th>\n    </tr>\n  </thead>\n  <tbody>\n  </tbody>\n</table>\n<p>0 rows × 43 columns</p>\n</div>"
     },
     "metadata": {},
     "output_type": "display_data"
    }
   ],
   "source": [
    "# Create path to cleaned user_ratings\n",
    "path = '../../../data/cleaned/user_ratings/'\n",
    "user_ratings_files = glob.glob(path + \"*.csv\")\n",
    "\n",
    "# Create new DataFrame to hold a user's average ratings\n",
    "average_ratings_df = pd.DataFrame(columns=genres)\n",
    "average_ratings_df.insert(0, \"user_id\", [])\n",
    "display(average_ratings_df)"
   ],
   "metadata": {
    "collapsed": false
   }
  },
  {
   "cell_type": "code",
   "execution_count": 4,
   "outputs": [
    {
     "data": {
      "text/plain": "    user_id  anime_id  rating\n0         0       430       9\n1         0      1004       5\n2         0      3010       7\n3         1     22535       9\n4         1     32281      10\n5         1     38000       9\n6         2     31580       7\n7         2     37086       8\n8         2      1604       9\n9         2     22535       8\n10        2       189       8",
      "text/html": "<div>\n<style scoped>\n    .dataframe tbody tr th:only-of-type {\n        vertical-align: middle;\n    }\n\n    .dataframe tbody tr th {\n        vertical-align: top;\n    }\n\n    .dataframe thead th {\n        text-align: right;\n    }\n</style>\n<table border=\"1\" class=\"dataframe\">\n  <thead>\n    <tr style=\"text-align: right;\">\n      <th></th>\n      <th>user_id</th>\n      <th>anime_id</th>\n      <th>rating</th>\n    </tr>\n  </thead>\n  <tbody>\n    <tr>\n      <th>0</th>\n      <td>0</td>\n      <td>430</td>\n      <td>9</td>\n    </tr>\n    <tr>\n      <th>1</th>\n      <td>0</td>\n      <td>1004</td>\n      <td>5</td>\n    </tr>\n    <tr>\n      <th>2</th>\n      <td>0</td>\n      <td>3010</td>\n      <td>7</td>\n    </tr>\n    <tr>\n      <th>3</th>\n      <td>1</td>\n      <td>22535</td>\n      <td>9</td>\n    </tr>\n    <tr>\n      <th>4</th>\n      <td>1</td>\n      <td>32281</td>\n      <td>10</td>\n    </tr>\n    <tr>\n      <th>5</th>\n      <td>1</td>\n      <td>38000</td>\n      <td>9</td>\n    </tr>\n    <tr>\n      <th>6</th>\n      <td>2</td>\n      <td>31580</td>\n      <td>7</td>\n    </tr>\n    <tr>\n      <th>7</th>\n      <td>2</td>\n      <td>37086</td>\n      <td>8</td>\n    </tr>\n    <tr>\n      <th>8</th>\n      <td>2</td>\n      <td>1604</td>\n      <td>9</td>\n    </tr>\n    <tr>\n      <th>9</th>\n      <td>2</td>\n      <td>22535</td>\n      <td>8</td>\n    </tr>\n    <tr>\n      <th>10</th>\n      <td>2</td>\n      <td>189</td>\n      <td>8</td>\n    </tr>\n  </tbody>\n</table>\n</div>"
     },
     "metadata": {},
     "output_type": "display_data"
    }
   ],
   "source": [
    "# Create DataFrame of all files\n",
    "user_ratings_files_df = pd.read_csv('../../../data/test.csv') ##### Take this out and change to next commented line for real data input instead of test data\n",
    "#user_ratings_files_df = pd.concat(map(pd.read_csv, user_ratings_files))\n",
    "display(user_ratings_files_df)"
   ],
   "metadata": {
    "collapsed": false
   }
  },
  {
   "cell_type": "code",
   "execution_count": 5,
   "outputs": [],
   "source": [
    "# Find every user's average rating for each genre and create new .csv file\n",
    "\n",
    "# Iterate through rows of ratings\n",
    "current_user_id = 0\n",
    "current_user_genre_ratings = pd.DataFrame(columns=[\"genre\", \"ratings_sum\", \"num_of_ratings\"])\n",
    "\n",
    "for i, row in user_ratings_files_df.iterrows():\n",
    "\n",
    "    # Next user found\n",
    "    if row['user_id'] != current_user_id:\n",
    "        # Calculate averages\n",
    "        dictionary_row = {'user_id':current_user_id}\n",
    "        for j, genre_row in current_user_genre_ratings.iterrows():\n",
    "            average_rating = genre_row['ratings_sum']/genre_row['num_of_ratings']\n",
    "            dictionary_row[genre_row['genre']] = average_rating\n",
    "\n",
    "        # Save average ratings data\n",
    "        average_ratings_df = pd.concat([average_ratings_df, pd.DataFrame.from_records([dictionary_row])])\n",
    "\n",
    "        # Clear DataFrame to make available for next user and set new current user id\n",
    "        current_user_genre_ratings = current_user_genre_ratings[0:0]\n",
    "        current_user_id = row['user_id']\n",
    "\n",
    "    # Find genres string for given anime_id and split into separate genre values\n",
    "    current_anime_id = row['anime_id']\n",
    "    current_anime_genres = anime_list_df[anime_list_df['MAL_ID'] == current_anime_id]['Genres']\n",
    "    current_anime_genres_list = list(current_anime_genres.str.split(\", \"))\n",
    "\n",
    "    # Fill DataFrame by iterating through genres list\n",
    "    for genre in current_anime_genres_list:\n",
    "        for genre_val in genre:\n",
    "            # Create new genre row with genre name and other values initially set to 0 if genre does not already exist\n",
    "            if not current_user_genre_ratings['genre'].isin([genre_val]).any():\n",
    "                new_row_dict = {'genre':genre_val, 'ratings_sum':0, 'num_of_ratings':0}\n",
    "                current_user_genre_ratings = pd.concat([current_user_genre_ratings, pd.DataFrame.from_records([new_row_dict])])\n",
    "\n",
    "            # Add to sum of ratings and increment number of ratings\n",
    "            current_user_genre_ratings.loc[current_user_genre_ratings['genre'] == genre_val, 'ratings_sum'] += row['rating']\n",
    "            current_user_genre_ratings.loc[current_user_genre_ratings['genre'] == genre_val, 'num_of_ratings'] += 1\n",
    "\n",
    "# Save data for last user\n",
    "# Calculate averages\n",
    "dictionary_row = {'user_id':current_user_id}\n",
    "for i, genre_row in current_user_genre_ratings.iterrows():\n",
    "    average_rating = genre_row['ratings_sum']/genre_row['num_of_ratings']\n",
    "    dictionary_row[genre_row['genre']] = average_rating\n",
    "\n",
    "# Save average ratings data\n",
    "average_ratings_df = pd.concat([average_ratings_df, pd.DataFrame.from_records([dictionary_row])])"
   ],
   "metadata": {
    "collapsed": false
   }
  },
  {
   "cell_type": "code",
   "execution_count": 6,
   "outputs": [],
   "source": [
    "# Export to .csv file\n",
    "average_ratings_df.to_csv('../../../data/average_ratings/average_ratings.csv', index=False)"
   ],
   "metadata": {
    "collapsed": false
   }
  }
 ],
 "metadata": {
  "kernelspec": {
   "display_name": "Python 3",
   "language": "python",
   "name": "python3"
  },
  "language_info": {
   "codemirror_mode": {
    "name": "ipython",
    "version": 2
   },
   "file_extension": ".py",
   "mimetype": "text/x-python",
   "name": "python",
   "nbconvert_exporter": "python",
   "pygments_lexer": "ipython2",
   "version": "2.7.6"
  }
 },
 "nbformat": 4,
 "nbformat_minor": 0
}
