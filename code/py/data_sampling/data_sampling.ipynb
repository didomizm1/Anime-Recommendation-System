{
 "cells": [
  {
   "cell_type": "code",
   "execution_count": 10,
   "metadata": {
    "collapsed": true
   },
   "outputs": [
    {
     "name": "stdout",
     "output_type": "stream",
     "text": [
      "Pandas Version Number: 1.4.2\n"
     ]
    }
   ],
   "source": [
    "# Pandas program to sample large dataset for single-node Hadoop\n",
    "import glob\n",
    "import math\n",
    "import pandas as pd\n",
    "print(\"Pandas Version Number: \" + pd.__version__)"
   ]
  },
  {
   "cell_type": "code",
   "execution_count": 11,
   "outputs": [
    {
     "data": {
      "text/plain": "         user_id  anime_id  rating\n0              0       430       9\n1              0      1004       5\n2              0      3010       7\n3              0       570       7\n4              0      2762       9\n...          ...       ...     ...\n6303665   353404       502       8\n6303666   353404       987       4\n6303667   353404       225       8\n6303668   353404       243       7\n6303669   353404       896       7\n\n[56726861 rows x 3 columns]",
      "text/html": "<div>\n<style scoped>\n    .dataframe tbody tr th:only-of-type {\n        vertical-align: middle;\n    }\n\n    .dataframe tbody tr th {\n        vertical-align: top;\n    }\n\n    .dataframe thead th {\n        text-align: right;\n    }\n</style>\n<table border=\"1\" class=\"dataframe\">\n  <thead>\n    <tr style=\"text-align: right;\">\n      <th></th>\n      <th>user_id</th>\n      <th>anime_id</th>\n      <th>rating</th>\n    </tr>\n  </thead>\n  <tbody>\n    <tr>\n      <th>0</th>\n      <td>0</td>\n      <td>430</td>\n      <td>9</td>\n    </tr>\n    <tr>\n      <th>1</th>\n      <td>0</td>\n      <td>1004</td>\n      <td>5</td>\n    </tr>\n    <tr>\n      <th>2</th>\n      <td>0</td>\n      <td>3010</td>\n      <td>7</td>\n    </tr>\n    <tr>\n      <th>3</th>\n      <td>0</td>\n      <td>570</td>\n      <td>7</td>\n    </tr>\n    <tr>\n      <th>4</th>\n      <td>0</td>\n      <td>2762</td>\n      <td>9</td>\n    </tr>\n    <tr>\n      <th>...</th>\n      <td>...</td>\n      <td>...</td>\n      <td>...</td>\n    </tr>\n    <tr>\n      <th>6303665</th>\n      <td>353404</td>\n      <td>502</td>\n      <td>8</td>\n    </tr>\n    <tr>\n      <th>6303666</th>\n      <td>353404</td>\n      <td>987</td>\n      <td>4</td>\n    </tr>\n    <tr>\n      <th>6303667</th>\n      <td>353404</td>\n      <td>225</td>\n      <td>8</td>\n    </tr>\n    <tr>\n      <th>6303668</th>\n      <td>353404</td>\n      <td>243</td>\n      <td>7</td>\n    </tr>\n    <tr>\n      <th>6303669</th>\n      <td>353404</td>\n      <td>896</td>\n      <td>7</td>\n    </tr>\n  </tbody>\n</table>\n<p>56726861 rows × 3 columns</p>\n</div>"
     },
     "metadata": {},
     "output_type": "display_data"
    }
   ],
   "source": [
    "# Create path to cleaned user_ratings\n",
    "path = '../../../data/cleaned/user_ratings/'\n",
    "user_ratings_files = glob.glob(path + \"*.csv\")\n",
    "\n",
    "# Create DataFrame of all files\n",
    "user_ratings_files_df = pd.concat(map(pd.read_csv, user_ratings_files))\n",
    "display(user_ratings_files_df)"
   ],
   "metadata": {
    "collapsed": false
   }
  },
  {
   "cell_type": "code",
   "execution_count": 12,
   "outputs": [
    {
     "data": {
      "text/plain": "         user_id  anime_id  rating\n5110811    31822     23225       7\n5110811    71030     10397       5\n5110811   110515       356       5\n5110811   150116      8795       8\n5110811   189372     23283       9\n...          ...       ...     ...\n2053269   170520      5204       9\n2053269   209409       246       8\n2053269   248850     33352      10\n2053269   287692     35076       6\n2053269   326761     22147       7\n\n[1000858 rows x 3 columns]",
      "text/html": "<div>\n<style scoped>\n    .dataframe tbody tr th:only-of-type {\n        vertical-align: middle;\n    }\n\n    .dataframe tbody tr th {\n        vertical-align: top;\n    }\n\n    .dataframe thead th {\n        text-align: right;\n    }\n</style>\n<table border=\"1\" class=\"dataframe\">\n  <thead>\n    <tr style=\"text-align: right;\">\n      <th></th>\n      <th>user_id</th>\n      <th>anime_id</th>\n      <th>rating</th>\n    </tr>\n  </thead>\n  <tbody>\n    <tr>\n      <th>5110811</th>\n      <td>31822</td>\n      <td>23225</td>\n      <td>7</td>\n    </tr>\n    <tr>\n      <th>5110811</th>\n      <td>71030</td>\n      <td>10397</td>\n      <td>5</td>\n    </tr>\n    <tr>\n      <th>5110811</th>\n      <td>110515</td>\n      <td>356</td>\n      <td>5</td>\n    </tr>\n    <tr>\n      <th>5110811</th>\n      <td>150116</td>\n      <td>8795</td>\n      <td>8</td>\n    </tr>\n    <tr>\n      <th>5110811</th>\n      <td>189372</td>\n      <td>23283</td>\n      <td>9</td>\n    </tr>\n    <tr>\n      <th>...</th>\n      <td>...</td>\n      <td>...</td>\n      <td>...</td>\n    </tr>\n    <tr>\n      <th>2053269</th>\n      <td>170520</td>\n      <td>5204</td>\n      <td>9</td>\n    </tr>\n    <tr>\n      <th>2053269</th>\n      <td>209409</td>\n      <td>246</td>\n      <td>8</td>\n    </tr>\n    <tr>\n      <th>2053269</th>\n      <td>248850</td>\n      <td>33352</td>\n      <td>10</td>\n    </tr>\n    <tr>\n      <th>2053269</th>\n      <td>287692</td>\n      <td>35076</td>\n      <td>6</td>\n    </tr>\n    <tr>\n      <th>2053269</th>\n      <td>326761</td>\n      <td>22147</td>\n      <td>7</td>\n    </tr>\n  </tbody>\n</table>\n<p>1000858 rows × 3 columns</p>\n</div>"
     },
     "metadata": {},
     "output_type": "display_data"
    }
   ],
   "source": [
    "from numpy.random import permutation\n",
    "\n",
    "# Randomly generate sample of large dataset (about 1.78%)\n",
    "row_index_shuffle = permutation(user_ratings_files_df.index)\n",
    "max_index = math.floor(len(user_ratings_files_df)/510)\n",
    "sample_data = user_ratings_files_df.loc[row_index_shuffle[0:max_index]]\n",
    "\n",
    "# Display new data and save to file\n",
    "display(sample_data)\n",
    "sample_data.to_csv('../../../data/sample/user_ratings_sample.csv', index=False)"
   ],
   "metadata": {
    "collapsed": false
   }
  }
 ],
 "metadata": {
  "kernelspec": {
   "display_name": "Python 3",
   "language": "python",
   "name": "python3"
  },
  "language_info": {
   "codemirror_mode": {
    "name": "ipython",
    "version": 2
   },
   "file_extension": ".py",
   "mimetype": "text/x-python",
   "name": "python",
   "nbconvert_exporter": "python",
   "pygments_lexer": "ipython2",
   "version": "2.7.6"
  }
 },
 "nbformat": 4,
 "nbformat_minor": 0
}
