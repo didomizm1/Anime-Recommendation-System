{
 "cells": [
  {
   "cell_type": "code",
   "execution_count": 10,
   "metadata": {
    "collapsed": true
   },
   "outputs": [
    {
     "name": "stdout",
     "output_type": "stream",
     "text": [
      "Pandas Version Number: 1.4.2\n"
     ]
    }
   ],
   "source": [
    "# Prints out members of each cluster\n",
    "import pandas as pd\n",
    "print(\"Pandas Version Number: \" + pd.__version__)"
   ]
  },
  {
   "cell_type": "code",
   "execution_count": 11,
   "outputs": [
    {
     "data": {
      "text/plain": "Empty DataFrame\nColumns: [cluster_number, user_id, Action, Adventure, Cars, Comedy, Dementia, Demons, Drama, Ecchi, Fantasy, Game, Harem, Historical, Horror, Josei, Kids, Magic, Martial Arts, Mecha, Military, Music, Mystery, Parody, Police, Psychological, Romance, Samurai, School, Sci-Fi, Seinen, Shoujo, Shoujo Ai, Shounen, Shounen Ai, Slice of Life, Space, Sports, Super Power, Supernatural, Thriller, Unknown, Vampire, Yaoi]\nIndex: []\n\n[0 rows x 44 columns]",
      "text/html": "<div>\n<style scoped>\n    .dataframe tbody tr th:only-of-type {\n        vertical-align: middle;\n    }\n\n    .dataframe tbody tr th {\n        vertical-align: top;\n    }\n\n    .dataframe thead th {\n        text-align: right;\n    }\n</style>\n<table border=\"1\" class=\"dataframe\">\n  <thead>\n    <tr style=\"text-align: right;\">\n      <th></th>\n      <th>cluster_number</th>\n      <th>user_id</th>\n      <th>Action</th>\n      <th>Adventure</th>\n      <th>Cars</th>\n      <th>Comedy</th>\n      <th>Dementia</th>\n      <th>Demons</th>\n      <th>Drama</th>\n      <th>Ecchi</th>\n      <th>...</th>\n      <th>Shounen Ai</th>\n      <th>Slice of Life</th>\n      <th>Space</th>\n      <th>Sports</th>\n      <th>Super Power</th>\n      <th>Supernatural</th>\n      <th>Thriller</th>\n      <th>Unknown</th>\n      <th>Vampire</th>\n      <th>Yaoi</th>\n    </tr>\n  </thead>\n  <tbody>\n  </tbody>\n</table>\n<p>0 rows × 44 columns</p>\n</div>"
     },
     "execution_count": 11,
     "metadata": {},
     "output_type": "execute_result"
    }
   ],
   "source": [
    "clusters_df = pd.read_csv('../../../data/clusters/clusters.csv')\n",
    "clusters_df.loc[clusters_df['cluster_number'] == 0]"
   ],
   "metadata": {
    "collapsed": false
   }
  },
  {
   "cell_type": "code",
   "execution_count": 12,
   "outputs": [
    {
     "data": {
      "text/plain": "      cluster_number  user_id    Action  Adventure      Cars    Comedy  \\\n0                  1        0  7.700000   7.444444       NaN  7.750000   \n3                  1        3  7.571429   7.840000  8.000000  7.492228   \n4                  1        4  7.531250   7.769231       NaN  7.685185   \n6                  1        6  7.182692   6.739726       NaN  6.993243   \n8                  1        8  7.600000   7.000000       NaN  7.571429   \n...              ...      ...       ...        ...       ...       ...   \n5679               1     6521  6.913043   7.086022       NaN  6.989950   \n5683               1     6525  6.444444   6.500000       NaN  6.951220   \n5684               1     6527  6.772727   6.723881  7.428571  6.757576   \n5686               1     6529  5.880952   6.352941       NaN  5.944444   \n5687               1     6531  7.407407   7.272727       NaN  7.685714   \n\n      Dementia    Demons     Drama     Ecchi  ...  Shounen Ai  Slice of Life  \\\n0          NaN       NaN  7.200000  4.000000  ...    6.000000       7.000000   \n3     8.000000  7.692308  7.956522  7.075949  ...         NaN       7.746269   \n4          NaN  6.666667  7.724638  6.500000  ...    7.000000       7.821429   \n6     6.833333  5.750000  7.680000  5.900000  ...    7.909091       7.551724   \n8     9.000000  6.000000  8.000000       NaN  ...         NaN       7.833333   \n...        ...       ...       ...       ...  ...         ...            ...   \n5679  8.250000  6.933333  7.279070  6.090909  ...         NaN       7.174757   \n5683  7.333333  5.750000  7.130435  6.200000  ...    8.000000       7.200000   \n5684  7.666667  6.628571  7.229508  6.258065  ...    4.000000       7.183099   \n5686  6.500000  7.000000  6.352941  6.000000  ...         NaN       6.818182   \n5687  8.857143  7.500000  7.588235  4.333333  ...    5.250000       7.923077   \n\n         Space    Sports  Super Power  Supernatural  Thriller  Unknown  \\\n0          NaN  6.000000     6.666667      7.571429       NaN      NaN   \n3     9.000000  8.000000     7.090909      7.655914  8.000000      NaN   \n4          NaN  7.000000     7.888889      7.676471  8.333333      NaN   \n6     6.857143  6.000000     7.000000      7.292308  8.187500      NaN   \n8          NaN       NaN          NaN      7.714286  7.000000      NaN   \n...        ...       ...          ...           ...       ...      ...   \n5679  7.368421  7.241379     6.360000      6.986842  7.052632      NaN   \n5683  4.000000  8.000000     6.842105      6.425000  7.857143      NaN   \n5684  7.100000  7.375000     6.786667      7.041096  7.631579      NaN   \n5686       NaN  7.000000     5.909091      6.210526  4.000000      NaN   \n5687  8.333333       NaN     7.666667      6.866667  8.400000      NaN   \n\n      Vampire  Yaoi  \n0     6.50000   NaN  \n3     7.50000   NaN  \n4     8.50000   NaN  \n6     8.00000   8.0  \n8         NaN   NaN  \n...       ...   ...  \n5679  6.75000   NaN  \n5683  6.50000   NaN  \n5684  6.73913   NaN  \n5686  8.00000   NaN  \n5687  5.00000   NaN  \n\n[2431 rows x 44 columns]",
      "text/html": "<div>\n<style scoped>\n    .dataframe tbody tr th:only-of-type {\n        vertical-align: middle;\n    }\n\n    .dataframe tbody tr th {\n        vertical-align: top;\n    }\n\n    .dataframe thead th {\n        text-align: right;\n    }\n</style>\n<table border=\"1\" class=\"dataframe\">\n  <thead>\n    <tr style=\"text-align: right;\">\n      <th></th>\n      <th>cluster_number</th>\n      <th>user_id</th>\n      <th>Action</th>\n      <th>Adventure</th>\n      <th>Cars</th>\n      <th>Comedy</th>\n      <th>Dementia</th>\n      <th>Demons</th>\n      <th>Drama</th>\n      <th>Ecchi</th>\n      <th>...</th>\n      <th>Shounen Ai</th>\n      <th>Slice of Life</th>\n      <th>Space</th>\n      <th>Sports</th>\n      <th>Super Power</th>\n      <th>Supernatural</th>\n      <th>Thriller</th>\n      <th>Unknown</th>\n      <th>Vampire</th>\n      <th>Yaoi</th>\n    </tr>\n  </thead>\n  <tbody>\n    <tr>\n      <th>0</th>\n      <td>1</td>\n      <td>0</td>\n      <td>7.700000</td>\n      <td>7.444444</td>\n      <td>NaN</td>\n      <td>7.750000</td>\n      <td>NaN</td>\n      <td>NaN</td>\n      <td>7.200000</td>\n      <td>4.000000</td>\n      <td>...</td>\n      <td>6.000000</td>\n      <td>7.000000</td>\n      <td>NaN</td>\n      <td>6.000000</td>\n      <td>6.666667</td>\n      <td>7.571429</td>\n      <td>NaN</td>\n      <td>NaN</td>\n      <td>6.50000</td>\n      <td>NaN</td>\n    </tr>\n    <tr>\n      <th>3</th>\n      <td>1</td>\n      <td>3</td>\n      <td>7.571429</td>\n      <td>7.840000</td>\n      <td>8.000000</td>\n      <td>7.492228</td>\n      <td>8.000000</td>\n      <td>7.692308</td>\n      <td>7.956522</td>\n      <td>7.075949</td>\n      <td>...</td>\n      <td>NaN</td>\n      <td>7.746269</td>\n      <td>9.000000</td>\n      <td>8.000000</td>\n      <td>7.090909</td>\n      <td>7.655914</td>\n      <td>8.000000</td>\n      <td>NaN</td>\n      <td>7.50000</td>\n      <td>NaN</td>\n    </tr>\n    <tr>\n      <th>4</th>\n      <td>1</td>\n      <td>4</td>\n      <td>7.531250</td>\n      <td>7.769231</td>\n      <td>NaN</td>\n      <td>7.685185</td>\n      <td>NaN</td>\n      <td>6.666667</td>\n      <td>7.724638</td>\n      <td>6.500000</td>\n      <td>...</td>\n      <td>7.000000</td>\n      <td>7.821429</td>\n      <td>NaN</td>\n      <td>7.000000</td>\n      <td>7.888889</td>\n      <td>7.676471</td>\n      <td>8.333333</td>\n      <td>NaN</td>\n      <td>8.50000</td>\n      <td>NaN</td>\n    </tr>\n    <tr>\n      <th>6</th>\n      <td>1</td>\n      <td>6</td>\n      <td>7.182692</td>\n      <td>6.739726</td>\n      <td>NaN</td>\n      <td>6.993243</td>\n      <td>6.833333</td>\n      <td>5.750000</td>\n      <td>7.680000</td>\n      <td>5.900000</td>\n      <td>...</td>\n      <td>7.909091</td>\n      <td>7.551724</td>\n      <td>6.857143</td>\n      <td>6.000000</td>\n      <td>7.000000</td>\n      <td>7.292308</td>\n      <td>8.187500</td>\n      <td>NaN</td>\n      <td>8.00000</td>\n      <td>8.0</td>\n    </tr>\n    <tr>\n      <th>8</th>\n      <td>1</td>\n      <td>8</td>\n      <td>7.600000</td>\n      <td>7.000000</td>\n      <td>NaN</td>\n      <td>7.571429</td>\n      <td>9.000000</td>\n      <td>6.000000</td>\n      <td>8.000000</td>\n      <td>NaN</td>\n      <td>...</td>\n      <td>NaN</td>\n      <td>7.833333</td>\n      <td>NaN</td>\n      <td>NaN</td>\n      <td>NaN</td>\n      <td>7.714286</td>\n      <td>7.000000</td>\n      <td>NaN</td>\n      <td>NaN</td>\n      <td>NaN</td>\n    </tr>\n    <tr>\n      <th>...</th>\n      <td>...</td>\n      <td>...</td>\n      <td>...</td>\n      <td>...</td>\n      <td>...</td>\n      <td>...</td>\n      <td>...</td>\n      <td>...</td>\n      <td>...</td>\n      <td>...</td>\n      <td>...</td>\n      <td>...</td>\n      <td>...</td>\n      <td>...</td>\n      <td>...</td>\n      <td>...</td>\n      <td>...</td>\n      <td>...</td>\n      <td>...</td>\n      <td>...</td>\n      <td>...</td>\n    </tr>\n    <tr>\n      <th>5679</th>\n      <td>1</td>\n      <td>6521</td>\n      <td>6.913043</td>\n      <td>7.086022</td>\n      <td>NaN</td>\n      <td>6.989950</td>\n      <td>8.250000</td>\n      <td>6.933333</td>\n      <td>7.279070</td>\n      <td>6.090909</td>\n      <td>...</td>\n      <td>NaN</td>\n      <td>7.174757</td>\n      <td>7.368421</td>\n      <td>7.241379</td>\n      <td>6.360000</td>\n      <td>6.986842</td>\n      <td>7.052632</td>\n      <td>NaN</td>\n      <td>6.75000</td>\n      <td>NaN</td>\n    </tr>\n    <tr>\n      <th>5683</th>\n      <td>1</td>\n      <td>6525</td>\n      <td>6.444444</td>\n      <td>6.500000</td>\n      <td>NaN</td>\n      <td>6.951220</td>\n      <td>7.333333</td>\n      <td>5.750000</td>\n      <td>7.130435</td>\n      <td>6.200000</td>\n      <td>...</td>\n      <td>8.000000</td>\n      <td>7.200000</td>\n      <td>4.000000</td>\n      <td>8.000000</td>\n      <td>6.842105</td>\n      <td>6.425000</td>\n      <td>7.857143</td>\n      <td>NaN</td>\n      <td>6.50000</td>\n      <td>NaN</td>\n    </tr>\n    <tr>\n      <th>5684</th>\n      <td>1</td>\n      <td>6527</td>\n      <td>6.772727</td>\n      <td>6.723881</td>\n      <td>7.428571</td>\n      <td>6.757576</td>\n      <td>7.666667</td>\n      <td>6.628571</td>\n      <td>7.229508</td>\n      <td>6.258065</td>\n      <td>...</td>\n      <td>4.000000</td>\n      <td>7.183099</td>\n      <td>7.100000</td>\n      <td>7.375000</td>\n      <td>6.786667</td>\n      <td>7.041096</td>\n      <td>7.631579</td>\n      <td>NaN</td>\n      <td>6.73913</td>\n      <td>NaN</td>\n    </tr>\n    <tr>\n      <th>5686</th>\n      <td>1</td>\n      <td>6529</td>\n      <td>5.880952</td>\n      <td>6.352941</td>\n      <td>NaN</td>\n      <td>5.944444</td>\n      <td>6.500000</td>\n      <td>7.000000</td>\n      <td>6.352941</td>\n      <td>6.000000</td>\n      <td>...</td>\n      <td>NaN</td>\n      <td>6.818182</td>\n      <td>NaN</td>\n      <td>7.000000</td>\n      <td>5.909091</td>\n      <td>6.210526</td>\n      <td>4.000000</td>\n      <td>NaN</td>\n      <td>8.00000</td>\n      <td>NaN</td>\n    </tr>\n    <tr>\n      <th>5687</th>\n      <td>1</td>\n      <td>6531</td>\n      <td>7.407407</td>\n      <td>7.272727</td>\n      <td>NaN</td>\n      <td>7.685714</td>\n      <td>8.857143</td>\n      <td>7.500000</td>\n      <td>7.588235</td>\n      <td>4.333333</td>\n      <td>...</td>\n      <td>5.250000</td>\n      <td>7.923077</td>\n      <td>8.333333</td>\n      <td>NaN</td>\n      <td>7.666667</td>\n      <td>6.866667</td>\n      <td>8.400000</td>\n      <td>NaN</td>\n      <td>5.00000</td>\n      <td>NaN</td>\n    </tr>\n  </tbody>\n</table>\n<p>2431 rows × 44 columns</p>\n</div>"
     },
     "execution_count": 12,
     "metadata": {},
     "output_type": "execute_result"
    }
   ],
   "source": [
    "clusters_df.loc[clusters_df['cluster_number'] == 1]"
   ],
   "metadata": {
    "collapsed": false
   }
  },
  {
   "cell_type": "code",
   "execution_count": 13,
   "outputs": [
    {
     "data": {
      "text/plain": "      cluster_number  user_id    Action  Adventure       Cars    Comedy  \\\n1                  2        1  7.886364   7.750000        NaN  7.860000   \n2                  2        2  8.551724   8.875000        NaN  8.588235   \n5                  2        5  9.000000   8.200000        NaN  7.935484   \n7                  2        7  7.740741   8.294118        NaN  7.875000   \n9                  2       10       NaN        NaN        NaN  8.000000   \n...              ...      ...       ...        ...        ...       ...   \n5678               2     6520  8.741935   8.500000        NaN  8.744681   \n5680               2     6522  8.538462   8.714286        NaN  8.111111   \n5681               2     6523  8.800000   8.222222        NaN  8.681818   \n5682               2     6524  9.545455   9.857143  10.000000  9.875000   \n5685               2     6528  7.559211   7.654762   8.142857  7.713636   \n\n      Dementia     Demons     Drama      Ecchi  ...  Shounen Ai  \\\n1          NaN   8.500000  8.447368   7.500000  ...         NaN   \n2          NaN   8.500000  8.400000   8.000000  ...         NaN   \n5          NaN  10.000000  8.923077   7.500000  ...         NaN   \n7          NaN   7.333333  8.379310   6.800000  ...         NaN   \n9          9.0        NaN       NaN        NaN  ...         NaN   \n...        ...        ...       ...        ...  ...         ...   \n5678       NaN   9.000000  9.275862   8.458333  ...         NaN   \n5680       9.0   9.000000  8.250000   4.000000  ...         NaN   \n5681       NaN   9.500000  8.833333   8.529412  ...         NaN   \n5682       NaN        NaN  9.583333  10.000000  ...         NaN   \n5685       NaN   7.523810  8.152672   7.095238  ...         7.0   \n\n      Slice of Life      Space     Sports  Super Power  Supernatural  \\\n1          7.666667        NaN   8.000000     8.428571      7.954545   \n2          8.500000        NaN   9.000000     9.090909      8.375000   \n5          8.571429   8.000000        NaN     7.000000      8.333333   \n7          8.772727        NaN        NaN     6.800000      7.814815   \n9               NaN        NaN        NaN          NaN      8.666667   \n...             ...        ...        ...          ...           ...   \n5678       9.047619        NaN        NaN     8.500000      8.880000   \n5680       8.000000   9.000000        NaN     8.250000      7.333333   \n5681       8.888889   8.333333   9.000000     9.666667      8.666667   \n5682       9.500000        NaN  10.000000     9.600000      9.600000   \n5685       7.934211  10.000000   7.851064     8.166667      7.793103   \n\n      Thriller  Unknown    Vampire  Yaoi  \n1     9.250000      NaN   8.000000   NaN  \n2     8.750000      NaN   9.000000   NaN  \n5          NaN      NaN        NaN   NaN  \n7     8.666667      NaN   8.000000   NaN  \n9     8.666667      NaN        NaN   NaN  \n...        ...      ...        ...   ...  \n5678  9.000000      NaN   8.833333   NaN  \n5680       NaN      NaN        NaN   NaN  \n5681       NaN      NaN   7.000000   NaN  \n5682  9.600000      NaN  10.000000   NaN  \n5685  8.714286      NaN   7.833333   NaN  \n\n[3257 rows x 44 columns]",
      "text/html": "<div>\n<style scoped>\n    .dataframe tbody tr th:only-of-type {\n        vertical-align: middle;\n    }\n\n    .dataframe tbody tr th {\n        vertical-align: top;\n    }\n\n    .dataframe thead th {\n        text-align: right;\n    }\n</style>\n<table border=\"1\" class=\"dataframe\">\n  <thead>\n    <tr style=\"text-align: right;\">\n      <th></th>\n      <th>cluster_number</th>\n      <th>user_id</th>\n      <th>Action</th>\n      <th>Adventure</th>\n      <th>Cars</th>\n      <th>Comedy</th>\n      <th>Dementia</th>\n      <th>Demons</th>\n      <th>Drama</th>\n      <th>Ecchi</th>\n      <th>...</th>\n      <th>Shounen Ai</th>\n      <th>Slice of Life</th>\n      <th>Space</th>\n      <th>Sports</th>\n      <th>Super Power</th>\n      <th>Supernatural</th>\n      <th>Thriller</th>\n      <th>Unknown</th>\n      <th>Vampire</th>\n      <th>Yaoi</th>\n    </tr>\n  </thead>\n  <tbody>\n    <tr>\n      <th>1</th>\n      <td>2</td>\n      <td>1</td>\n      <td>7.886364</td>\n      <td>7.750000</td>\n      <td>NaN</td>\n      <td>7.860000</td>\n      <td>NaN</td>\n      <td>8.500000</td>\n      <td>8.447368</td>\n      <td>7.500000</td>\n      <td>...</td>\n      <td>NaN</td>\n      <td>7.666667</td>\n      <td>NaN</td>\n      <td>8.000000</td>\n      <td>8.428571</td>\n      <td>7.954545</td>\n      <td>9.250000</td>\n      <td>NaN</td>\n      <td>8.000000</td>\n      <td>NaN</td>\n    </tr>\n    <tr>\n      <th>2</th>\n      <td>2</td>\n      <td>2</td>\n      <td>8.551724</td>\n      <td>8.875000</td>\n      <td>NaN</td>\n      <td>8.588235</td>\n      <td>NaN</td>\n      <td>8.500000</td>\n      <td>8.400000</td>\n      <td>8.000000</td>\n      <td>...</td>\n      <td>NaN</td>\n      <td>8.500000</td>\n      <td>NaN</td>\n      <td>9.000000</td>\n      <td>9.090909</td>\n      <td>8.375000</td>\n      <td>8.750000</td>\n      <td>NaN</td>\n      <td>9.000000</td>\n      <td>NaN</td>\n    </tr>\n    <tr>\n      <th>5</th>\n      <td>2</td>\n      <td>5</td>\n      <td>9.000000</td>\n      <td>8.200000</td>\n      <td>NaN</td>\n      <td>7.935484</td>\n      <td>NaN</td>\n      <td>10.000000</td>\n      <td>8.923077</td>\n      <td>7.500000</td>\n      <td>...</td>\n      <td>NaN</td>\n      <td>8.571429</td>\n      <td>8.000000</td>\n      <td>NaN</td>\n      <td>7.000000</td>\n      <td>8.333333</td>\n      <td>NaN</td>\n      <td>NaN</td>\n      <td>NaN</td>\n      <td>NaN</td>\n    </tr>\n    <tr>\n      <th>7</th>\n      <td>2</td>\n      <td>7</td>\n      <td>7.740741</td>\n      <td>8.294118</td>\n      <td>NaN</td>\n      <td>7.875000</td>\n      <td>NaN</td>\n      <td>7.333333</td>\n      <td>8.379310</td>\n      <td>6.800000</td>\n      <td>...</td>\n      <td>NaN</td>\n      <td>8.772727</td>\n      <td>NaN</td>\n      <td>NaN</td>\n      <td>6.800000</td>\n      <td>7.814815</td>\n      <td>8.666667</td>\n      <td>NaN</td>\n      <td>8.000000</td>\n      <td>NaN</td>\n    </tr>\n    <tr>\n      <th>9</th>\n      <td>2</td>\n      <td>10</td>\n      <td>NaN</td>\n      <td>NaN</td>\n      <td>NaN</td>\n      <td>8.000000</td>\n      <td>9.0</td>\n      <td>NaN</td>\n      <td>NaN</td>\n      <td>NaN</td>\n      <td>...</td>\n      <td>NaN</td>\n      <td>NaN</td>\n      <td>NaN</td>\n      <td>NaN</td>\n      <td>NaN</td>\n      <td>8.666667</td>\n      <td>8.666667</td>\n      <td>NaN</td>\n      <td>NaN</td>\n      <td>NaN</td>\n    </tr>\n    <tr>\n      <th>...</th>\n      <td>...</td>\n      <td>...</td>\n      <td>...</td>\n      <td>...</td>\n      <td>...</td>\n      <td>...</td>\n      <td>...</td>\n      <td>...</td>\n      <td>...</td>\n      <td>...</td>\n      <td>...</td>\n      <td>...</td>\n      <td>...</td>\n      <td>...</td>\n      <td>...</td>\n      <td>...</td>\n      <td>...</td>\n      <td>...</td>\n      <td>...</td>\n      <td>...</td>\n      <td>...</td>\n    </tr>\n    <tr>\n      <th>5678</th>\n      <td>2</td>\n      <td>6520</td>\n      <td>8.741935</td>\n      <td>8.500000</td>\n      <td>NaN</td>\n      <td>8.744681</td>\n      <td>NaN</td>\n      <td>9.000000</td>\n      <td>9.275862</td>\n      <td>8.458333</td>\n      <td>...</td>\n      <td>NaN</td>\n      <td>9.047619</td>\n      <td>NaN</td>\n      <td>NaN</td>\n      <td>8.500000</td>\n      <td>8.880000</td>\n      <td>9.000000</td>\n      <td>NaN</td>\n      <td>8.833333</td>\n      <td>NaN</td>\n    </tr>\n    <tr>\n      <th>5680</th>\n      <td>2</td>\n      <td>6522</td>\n      <td>8.538462</td>\n      <td>8.714286</td>\n      <td>NaN</td>\n      <td>8.111111</td>\n      <td>9.0</td>\n      <td>9.000000</td>\n      <td>8.250000</td>\n      <td>4.000000</td>\n      <td>...</td>\n      <td>NaN</td>\n      <td>8.000000</td>\n      <td>9.000000</td>\n      <td>NaN</td>\n      <td>8.250000</td>\n      <td>7.333333</td>\n      <td>NaN</td>\n      <td>NaN</td>\n      <td>NaN</td>\n      <td>NaN</td>\n    </tr>\n    <tr>\n      <th>5681</th>\n      <td>2</td>\n      <td>6523</td>\n      <td>8.800000</td>\n      <td>8.222222</td>\n      <td>NaN</td>\n      <td>8.681818</td>\n      <td>NaN</td>\n      <td>9.500000</td>\n      <td>8.833333</td>\n      <td>8.529412</td>\n      <td>...</td>\n      <td>NaN</td>\n      <td>8.888889</td>\n      <td>8.333333</td>\n      <td>9.000000</td>\n      <td>9.666667</td>\n      <td>8.666667</td>\n      <td>NaN</td>\n      <td>NaN</td>\n      <td>7.000000</td>\n      <td>NaN</td>\n    </tr>\n    <tr>\n      <th>5682</th>\n      <td>2</td>\n      <td>6524</td>\n      <td>9.545455</td>\n      <td>9.857143</td>\n      <td>10.000000</td>\n      <td>9.875000</td>\n      <td>NaN</td>\n      <td>NaN</td>\n      <td>9.583333</td>\n      <td>10.000000</td>\n      <td>...</td>\n      <td>NaN</td>\n      <td>9.500000</td>\n      <td>NaN</td>\n      <td>10.000000</td>\n      <td>9.600000</td>\n      <td>9.600000</td>\n      <td>9.600000</td>\n      <td>NaN</td>\n      <td>10.000000</td>\n      <td>NaN</td>\n    </tr>\n    <tr>\n      <th>5685</th>\n      <td>2</td>\n      <td>6528</td>\n      <td>7.559211</td>\n      <td>7.654762</td>\n      <td>8.142857</td>\n      <td>7.713636</td>\n      <td>NaN</td>\n      <td>7.523810</td>\n      <td>8.152672</td>\n      <td>7.095238</td>\n      <td>...</td>\n      <td>7.0</td>\n      <td>7.934211</td>\n      <td>10.000000</td>\n      <td>7.851064</td>\n      <td>8.166667</td>\n      <td>7.793103</td>\n      <td>8.714286</td>\n      <td>NaN</td>\n      <td>7.833333</td>\n      <td>NaN</td>\n    </tr>\n  </tbody>\n</table>\n<p>3257 rows × 44 columns</p>\n</div>"
     },
     "execution_count": 13,
     "metadata": {},
     "output_type": "execute_result"
    }
   ],
   "source": [
    "clusters_df.loc[clusters_df['cluster_number'] == 2]"
   ],
   "metadata": {
    "collapsed": false
   }
  },
  {
   "cell_type": "code",
   "execution_count": 14,
   "outputs": [
    {
     "data": {
      "text/plain": "Empty DataFrame\nColumns: [cluster_number, user_id, Action, Adventure, Cars, Comedy, Dementia, Demons, Drama, Ecchi, Fantasy, Game, Harem, Historical, Horror, Josei, Kids, Magic, Martial Arts, Mecha, Military, Music, Mystery, Parody, Police, Psychological, Romance, Samurai, School, Sci-Fi, Seinen, Shoujo, Shoujo Ai, Shounen, Shounen Ai, Slice of Life, Space, Sports, Super Power, Supernatural, Thriller, Unknown, Vampire, Yaoi]\nIndex: []\n\n[0 rows x 44 columns]",
      "text/html": "<div>\n<style scoped>\n    .dataframe tbody tr th:only-of-type {\n        vertical-align: middle;\n    }\n\n    .dataframe tbody tr th {\n        vertical-align: top;\n    }\n\n    .dataframe thead th {\n        text-align: right;\n    }\n</style>\n<table border=\"1\" class=\"dataframe\">\n  <thead>\n    <tr style=\"text-align: right;\">\n      <th></th>\n      <th>cluster_number</th>\n      <th>user_id</th>\n      <th>Action</th>\n      <th>Adventure</th>\n      <th>Cars</th>\n      <th>Comedy</th>\n      <th>Dementia</th>\n      <th>Demons</th>\n      <th>Drama</th>\n      <th>Ecchi</th>\n      <th>...</th>\n      <th>Shounen Ai</th>\n      <th>Slice of Life</th>\n      <th>Space</th>\n      <th>Sports</th>\n      <th>Super Power</th>\n      <th>Supernatural</th>\n      <th>Thriller</th>\n      <th>Unknown</th>\n      <th>Vampire</th>\n      <th>Yaoi</th>\n    </tr>\n  </thead>\n  <tbody>\n  </tbody>\n</table>\n<p>0 rows × 44 columns</p>\n</div>"
     },
     "execution_count": 14,
     "metadata": {},
     "output_type": "execute_result"
    }
   ],
   "source": [
    "clusters_df.loc[clusters_df['cluster_number'] == 3]"
   ],
   "metadata": {
    "collapsed": false
   }
  },
  {
   "cell_type": "code",
   "execution_count": 15,
   "outputs": [
    {
     "data": {
      "text/plain": "Empty DataFrame\nColumns: [cluster_number, user_id, Action, Adventure, Cars, Comedy, Dementia, Demons, Drama, Ecchi, Fantasy, Game, Harem, Historical, Horror, Josei, Kids, Magic, Martial Arts, Mecha, Military, Music, Mystery, Parody, Police, Psychological, Romance, Samurai, School, Sci-Fi, Seinen, Shoujo, Shoujo Ai, Shounen, Shounen Ai, Slice of Life, Space, Sports, Super Power, Supernatural, Thriller, Unknown, Vampire, Yaoi]\nIndex: []\n\n[0 rows x 44 columns]",
      "text/html": "<div>\n<style scoped>\n    .dataframe tbody tr th:only-of-type {\n        vertical-align: middle;\n    }\n\n    .dataframe tbody tr th {\n        vertical-align: top;\n    }\n\n    .dataframe thead th {\n        text-align: right;\n    }\n</style>\n<table border=\"1\" class=\"dataframe\">\n  <thead>\n    <tr style=\"text-align: right;\">\n      <th></th>\n      <th>cluster_number</th>\n      <th>user_id</th>\n      <th>Action</th>\n      <th>Adventure</th>\n      <th>Cars</th>\n      <th>Comedy</th>\n      <th>Dementia</th>\n      <th>Demons</th>\n      <th>Drama</th>\n      <th>Ecchi</th>\n      <th>...</th>\n      <th>Shounen Ai</th>\n      <th>Slice of Life</th>\n      <th>Space</th>\n      <th>Sports</th>\n      <th>Super Power</th>\n      <th>Supernatural</th>\n      <th>Thriller</th>\n      <th>Unknown</th>\n      <th>Vampire</th>\n      <th>Yaoi</th>\n    </tr>\n  </thead>\n  <tbody>\n  </tbody>\n</table>\n<p>0 rows × 44 columns</p>\n</div>"
     },
     "execution_count": 15,
     "metadata": {},
     "output_type": "execute_result"
    }
   ],
   "source": [
    "clusters_df.loc[clusters_df['cluster_number'] == 4]"
   ],
   "metadata": {
    "collapsed": false
   }
  },
  {
   "cell_type": "code",
   "execution_count": 16,
   "outputs": [
    {
     "data": {
      "text/plain": "Empty DataFrame\nColumns: [cluster_number, user_id, Action, Adventure, Cars, Comedy, Dementia, Demons, Drama, Ecchi, Fantasy, Game, Harem, Historical, Horror, Josei, Kids, Magic, Martial Arts, Mecha, Military, Music, Mystery, Parody, Police, Psychological, Romance, Samurai, School, Sci-Fi, Seinen, Shoujo, Shoujo Ai, Shounen, Shounen Ai, Slice of Life, Space, Sports, Super Power, Supernatural, Thriller, Unknown, Vampire, Yaoi]\nIndex: []\n\n[0 rows x 44 columns]",
      "text/html": "<div>\n<style scoped>\n    .dataframe tbody tr th:only-of-type {\n        vertical-align: middle;\n    }\n\n    .dataframe tbody tr th {\n        vertical-align: top;\n    }\n\n    .dataframe thead th {\n        text-align: right;\n    }\n</style>\n<table border=\"1\" class=\"dataframe\">\n  <thead>\n    <tr style=\"text-align: right;\">\n      <th></th>\n      <th>cluster_number</th>\n      <th>user_id</th>\n      <th>Action</th>\n      <th>Adventure</th>\n      <th>Cars</th>\n      <th>Comedy</th>\n      <th>Dementia</th>\n      <th>Demons</th>\n      <th>Drama</th>\n      <th>Ecchi</th>\n      <th>...</th>\n      <th>Shounen Ai</th>\n      <th>Slice of Life</th>\n      <th>Space</th>\n      <th>Sports</th>\n      <th>Super Power</th>\n      <th>Supernatural</th>\n      <th>Thriller</th>\n      <th>Unknown</th>\n      <th>Vampire</th>\n      <th>Yaoi</th>\n    </tr>\n  </thead>\n  <tbody>\n  </tbody>\n</table>\n<p>0 rows × 44 columns</p>\n</div>"
     },
     "execution_count": 16,
     "metadata": {},
     "output_type": "execute_result"
    }
   ],
   "source": [
    "clusters_df.loc[clusters_df['cluster_number'] == 5]"
   ],
   "metadata": {
    "collapsed": false
   }
  },
  {
   "cell_type": "code",
   "execution_count": 17,
   "outputs": [
    {
     "data": {
      "text/plain": "Empty DataFrame\nColumns: [cluster_number, user_id, Action, Adventure, Cars, Comedy, Dementia, Demons, Drama, Ecchi, Fantasy, Game, Harem, Historical, Horror, Josei, Kids, Magic, Martial Arts, Mecha, Military, Music, Mystery, Parody, Police, Psychological, Romance, Samurai, School, Sci-Fi, Seinen, Shoujo, Shoujo Ai, Shounen, Shounen Ai, Slice of Life, Space, Sports, Super Power, Supernatural, Thriller, Unknown, Vampire, Yaoi]\nIndex: []\n\n[0 rows x 44 columns]",
      "text/html": "<div>\n<style scoped>\n    .dataframe tbody tr th:only-of-type {\n        vertical-align: middle;\n    }\n\n    .dataframe tbody tr th {\n        vertical-align: top;\n    }\n\n    .dataframe thead th {\n        text-align: right;\n    }\n</style>\n<table border=\"1\" class=\"dataframe\">\n  <thead>\n    <tr style=\"text-align: right;\">\n      <th></th>\n      <th>cluster_number</th>\n      <th>user_id</th>\n      <th>Action</th>\n      <th>Adventure</th>\n      <th>Cars</th>\n      <th>Comedy</th>\n      <th>Dementia</th>\n      <th>Demons</th>\n      <th>Drama</th>\n      <th>Ecchi</th>\n      <th>...</th>\n      <th>Shounen Ai</th>\n      <th>Slice of Life</th>\n      <th>Space</th>\n      <th>Sports</th>\n      <th>Super Power</th>\n      <th>Supernatural</th>\n      <th>Thriller</th>\n      <th>Unknown</th>\n      <th>Vampire</th>\n      <th>Yaoi</th>\n    </tr>\n  </thead>\n  <tbody>\n  </tbody>\n</table>\n<p>0 rows × 44 columns</p>\n</div>"
     },
     "execution_count": 17,
     "metadata": {},
     "output_type": "execute_result"
    }
   ],
   "source": [
    "clusters_df.loc[clusters_df['cluster_number'] == 6]"
   ],
   "metadata": {
    "collapsed": false
   }
  }
 ],
 "metadata": {
  "kernelspec": {
   "display_name": "Python 3",
   "language": "python",
   "name": "python3"
  },
  "language_info": {
   "codemirror_mode": {
    "name": "ipython",
    "version": 2
   },
   "file_extension": ".py",
   "mimetype": "text/x-python",
   "name": "python",
   "nbconvert_exporter": "python",
   "pygments_lexer": "ipython2",
   "version": "2.7.6"
  }
 },
 "nbformat": 4,
 "nbformat_minor": 0
}
