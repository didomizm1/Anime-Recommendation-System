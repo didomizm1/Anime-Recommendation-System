{
 "cells": [
  {
   "cell_type": "code",
   "execution_count": 12,
   "metadata": {
    "collapsed": true
   },
   "outputs": [
    {
     "name": "stdout",
     "output_type": "stream",
     "text": [
      "Cowboy Bebop:The Movie\n"
     ]
    }
   ],
   "source": [
    "import pandas as pd\n",
    "anime_list_df = pd.read_csv('../../../data/cleaned/anime_list.csv')\n",
    "series_id = 5\n",
    "current_name = anime_list_df.loc[anime_list_df['MAL_ID'] == series_id]['English name']\n",
    "print(current_name.values[0])"
   ]
  },
  {
   "cell_type": "code",
   "execution_count": 12,
   "outputs": [],
   "source": [],
   "metadata": {
    "collapsed": false
   }
  }
 ],
 "metadata": {
  "kernelspec": {
   "display_name": "Python 3",
   "language": "python",
   "name": "python3"
  },
  "language_info": {
   "codemirror_mode": {
    "name": "ipython",
    "version": 2
   },
   "file_extension": ".py",
   "mimetype": "text/x-python",
   "name": "python",
   "nbconvert_exporter": "python",
   "pygments_lexer": "ipython2",
   "version": "2.7.6"
  }
 },
 "nbformat": 4,
 "nbformat_minor": 0
}
