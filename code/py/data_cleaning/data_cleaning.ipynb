{
 "cells": [
  {
   "cell_type": "code",
   "execution_count": 1,
   "id": "db645e26-0d8f-48b7-9f78-9c686c6f7466",
   "metadata": {},
   "outputs": [
    {
     "name": "stdout",
     "output_type": "stream",
     "text": [
      "Pandas Version Number: 1.4.2\n"
     ]
    }
   ],
   "source": [
    "# Pandas program to clean project data files\n",
    "import pandas as pd\n",
    "print(\"Pandas Version Number: \" + pd.__version__)"
   ]
  },
  {
   "cell_type": "code",
   "execution_count": 2,
   "id": "88bd94ce-8dd2-4208-84cf-daafe7080fe5",
   "metadata": {},
   "outputs": [
    {
     "data": {
      "text/plain": "       MAL_ID                             Name    Score  \\\n0           1                     Cowboy Bebop     8.78   \n1           5  Cowboy Bebop: Tengoku no Tobira     8.39   \n2           6                           Trigun     8.24   \n3           7               Witch Hunter Robin     7.27   \n4           8                   Bouken Ou Beet     6.98   \n...       ...                              ...      ...   \n17557   48481  Daomu Biji Zhi Qinling Shen Shu  Unknown   \n17558   48483                     Mieruko-chan  Unknown   \n17559   48488  Higurashi no Naku Koro ni Sotsu  Unknown   \n17560   48491      Yama no Susume: Next Summit  Unknown   \n17561   48492                    Scarlet Nexus  Unknown   \n\n                                                  Genres  \\\n0        Action, Adventure, Comedy, Drama, Sci-Fi, Space   \n1                  Action, Drama, Mystery, Sci-Fi, Space   \n2      Action, Sci-Fi, Adventure, Comedy, Drama, Shounen   \n3      Action, Mystery, Police, Supernatural, Drama, ...   \n4              Adventure, Fantasy, Shounen, Supernatural   \n...                                                  ...   \n17557                   Adventure, Mystery, Supernatural   \n17558                       Comedy, Horror, Supernatural   \n17559  Mystery, Dementia, Horror, Psychological, Supe...   \n17560                   Adventure, Slice of Life, Comedy   \n17561                                    Action, Fantasy   \n\n                          English name                     Japanese name  \\\n0                         Cowboy Bebop                         カウボーイビバップ   \n1               Cowboy Bebop:The Movie                    カウボーイビバップ 天国の扉   \n2                               Trigun                             トライガン   \n3                   Witch Hunter Robin  Witch Hunter ROBIN (ウイッチハンターロビン)   \n4               Beet the Vandel Buster                            冒険王ビィト   \n...                                ...                               ...   \n17557                          Unknown                         盗墓笔记之秦岭神树   \n17558                          Unknown                           見える子ちゃん   \n17559  Higurashi:When They Cry – SOTSU                        ひぐらしのなく頃に卒   \n17560                          Unknown                ヤマノススメ Next Summit   \n17561                          Unknown                     SCARLET NEXUS   \n\n        Type Episodes                         Aired    Premiered  ...  \\\n0         TV       26   Apr 3, 1998 to Apr 24, 1999  Spring 1998  ...   \n1      Movie        1                   Sep 1, 2001      Unknown  ...   \n2         TV       26   Apr 1, 1998 to Sep 30, 1998  Spring 1998  ...   \n3         TV       26   Jul 2, 2002 to Dec 24, 2002  Summer 2002  ...   \n4         TV       52  Sep 30, 2004 to Sep 29, 2005    Fall 2004  ...   \n...      ...      ...                           ...          ...  ...   \n17557    ONA  Unknown              Apr 4, 2021 to ?      Unknown  ...   \n17558     TV  Unknown                     2021 to ?      Unknown  ...   \n17559     TV  Unknown                Jul, 2021 to ?  Summer 2021  ...   \n17560     TV  Unknown                       Unknown      Unknown  ...   \n17561     TV  Unknown                Jul, 2021 to ?  Summer 2021  ...   \n\n       Score-10   Score-9   Score-8  Score-7  Score-6  Score-5  Score-4  \\\n0      229170.0  182126.0  131625.0  62330.0  20688.0   8904.0   3184.0   \n1       30043.0   49201.0   49505.0  22632.0   5805.0   1877.0    577.0   \n2       50229.0   75651.0   86142.0  49432.0  15376.0   5838.0   1965.0   \n3        2182.0    4806.0   10128.0  11618.0   5709.0   2920.0   1083.0   \n4         312.0     529.0    1242.0   1713.0   1068.0    634.0    265.0   \n...         ...       ...       ...      ...      ...      ...      ...   \n17557   Unknown   Unknown   Unknown      1.0  Unknown  Unknown  Unknown   \n17558   Unknown   Unknown   Unknown  Unknown  Unknown  Unknown  Unknown   \n17559       1.0   Unknown   Unknown  Unknown  Unknown  Unknown  Unknown   \n17560   Unknown   Unknown   Unknown  Unknown  Unknown  Unknown  Unknown   \n17561   Unknown   Unknown   Unknown  Unknown  Unknown  Unknown  Unknown   \n\n       Score-3  Score-2  Score-1  \n0       1357.0    741.0   1580.0  \n1        221.0    109.0    379.0  \n2        664.0    316.0    533.0  \n3        353.0    164.0    131.0  \n4         83.0     50.0     27.0  \n...        ...      ...      ...  \n17557  Unknown  Unknown  Unknown  \n17558  Unknown  Unknown  Unknown  \n17559  Unknown  Unknown  Unknown  \n17560  Unknown  Unknown  Unknown  \n17561  Unknown  Unknown  Unknown  \n\n[17562 rows x 35 columns]",
      "text/html": "<div>\n<style scoped>\n    .dataframe tbody tr th:only-of-type {\n        vertical-align: middle;\n    }\n\n    .dataframe tbody tr th {\n        vertical-align: top;\n    }\n\n    .dataframe thead th {\n        text-align: right;\n    }\n</style>\n<table border=\"1\" class=\"dataframe\">\n  <thead>\n    <tr style=\"text-align: right;\">\n      <th></th>\n      <th>MAL_ID</th>\n      <th>Name</th>\n      <th>Score</th>\n      <th>Genres</th>\n      <th>English name</th>\n      <th>Japanese name</th>\n      <th>Type</th>\n      <th>Episodes</th>\n      <th>Aired</th>\n      <th>Premiered</th>\n      <th>...</th>\n      <th>Score-10</th>\n      <th>Score-9</th>\n      <th>Score-8</th>\n      <th>Score-7</th>\n      <th>Score-6</th>\n      <th>Score-5</th>\n      <th>Score-4</th>\n      <th>Score-3</th>\n      <th>Score-2</th>\n      <th>Score-1</th>\n    </tr>\n  </thead>\n  <tbody>\n    <tr>\n      <th>0</th>\n      <td>1</td>\n      <td>Cowboy Bebop</td>\n      <td>8.78</td>\n      <td>Action, Adventure, Comedy, Drama, Sci-Fi, Space</td>\n      <td>Cowboy Bebop</td>\n      <td>カウボーイビバップ</td>\n      <td>TV</td>\n      <td>26</td>\n      <td>Apr 3, 1998 to Apr 24, 1999</td>\n      <td>Spring 1998</td>\n      <td>...</td>\n      <td>229170.0</td>\n      <td>182126.0</td>\n      <td>131625.0</td>\n      <td>62330.0</td>\n      <td>20688.0</td>\n      <td>8904.0</td>\n      <td>3184.0</td>\n      <td>1357.0</td>\n      <td>741.0</td>\n      <td>1580.0</td>\n    </tr>\n    <tr>\n      <th>1</th>\n      <td>5</td>\n      <td>Cowboy Bebop: Tengoku no Tobira</td>\n      <td>8.39</td>\n      <td>Action, Drama, Mystery, Sci-Fi, Space</td>\n      <td>Cowboy Bebop:The Movie</td>\n      <td>カウボーイビバップ 天国の扉</td>\n      <td>Movie</td>\n      <td>1</td>\n      <td>Sep 1, 2001</td>\n      <td>Unknown</td>\n      <td>...</td>\n      <td>30043.0</td>\n      <td>49201.0</td>\n      <td>49505.0</td>\n      <td>22632.0</td>\n      <td>5805.0</td>\n      <td>1877.0</td>\n      <td>577.0</td>\n      <td>221.0</td>\n      <td>109.0</td>\n      <td>379.0</td>\n    </tr>\n    <tr>\n      <th>2</th>\n      <td>6</td>\n      <td>Trigun</td>\n      <td>8.24</td>\n      <td>Action, Sci-Fi, Adventure, Comedy, Drama, Shounen</td>\n      <td>Trigun</td>\n      <td>トライガン</td>\n      <td>TV</td>\n      <td>26</td>\n      <td>Apr 1, 1998 to Sep 30, 1998</td>\n      <td>Spring 1998</td>\n      <td>...</td>\n      <td>50229.0</td>\n      <td>75651.0</td>\n      <td>86142.0</td>\n      <td>49432.0</td>\n      <td>15376.0</td>\n      <td>5838.0</td>\n      <td>1965.0</td>\n      <td>664.0</td>\n      <td>316.0</td>\n      <td>533.0</td>\n    </tr>\n    <tr>\n      <th>3</th>\n      <td>7</td>\n      <td>Witch Hunter Robin</td>\n      <td>7.27</td>\n      <td>Action, Mystery, Police, Supernatural, Drama, ...</td>\n      <td>Witch Hunter Robin</td>\n      <td>Witch Hunter ROBIN (ウイッチハンターロビン)</td>\n      <td>TV</td>\n      <td>26</td>\n      <td>Jul 2, 2002 to Dec 24, 2002</td>\n      <td>Summer 2002</td>\n      <td>...</td>\n      <td>2182.0</td>\n      <td>4806.0</td>\n      <td>10128.0</td>\n      <td>11618.0</td>\n      <td>5709.0</td>\n      <td>2920.0</td>\n      <td>1083.0</td>\n      <td>353.0</td>\n      <td>164.0</td>\n      <td>131.0</td>\n    </tr>\n    <tr>\n      <th>4</th>\n      <td>8</td>\n      <td>Bouken Ou Beet</td>\n      <td>6.98</td>\n      <td>Adventure, Fantasy, Shounen, Supernatural</td>\n      <td>Beet the Vandel Buster</td>\n      <td>冒険王ビィト</td>\n      <td>TV</td>\n      <td>52</td>\n      <td>Sep 30, 2004 to Sep 29, 2005</td>\n      <td>Fall 2004</td>\n      <td>...</td>\n      <td>312.0</td>\n      <td>529.0</td>\n      <td>1242.0</td>\n      <td>1713.0</td>\n      <td>1068.0</td>\n      <td>634.0</td>\n      <td>265.0</td>\n      <td>83.0</td>\n      <td>50.0</td>\n      <td>27.0</td>\n    </tr>\n    <tr>\n      <th>...</th>\n      <td>...</td>\n      <td>...</td>\n      <td>...</td>\n      <td>...</td>\n      <td>...</td>\n      <td>...</td>\n      <td>...</td>\n      <td>...</td>\n      <td>...</td>\n      <td>...</td>\n      <td>...</td>\n      <td>...</td>\n      <td>...</td>\n      <td>...</td>\n      <td>...</td>\n      <td>...</td>\n      <td>...</td>\n      <td>...</td>\n      <td>...</td>\n      <td>...</td>\n      <td>...</td>\n    </tr>\n    <tr>\n      <th>17557</th>\n      <td>48481</td>\n      <td>Daomu Biji Zhi Qinling Shen Shu</td>\n      <td>Unknown</td>\n      <td>Adventure, Mystery, Supernatural</td>\n      <td>Unknown</td>\n      <td>盗墓笔记之秦岭神树</td>\n      <td>ONA</td>\n      <td>Unknown</td>\n      <td>Apr 4, 2021 to ?</td>\n      <td>Unknown</td>\n      <td>...</td>\n      <td>Unknown</td>\n      <td>Unknown</td>\n      <td>Unknown</td>\n      <td>1.0</td>\n      <td>Unknown</td>\n      <td>Unknown</td>\n      <td>Unknown</td>\n      <td>Unknown</td>\n      <td>Unknown</td>\n      <td>Unknown</td>\n    </tr>\n    <tr>\n      <th>17558</th>\n      <td>48483</td>\n      <td>Mieruko-chan</td>\n      <td>Unknown</td>\n      <td>Comedy, Horror, Supernatural</td>\n      <td>Unknown</td>\n      <td>見える子ちゃん</td>\n      <td>TV</td>\n      <td>Unknown</td>\n      <td>2021 to ?</td>\n      <td>Unknown</td>\n      <td>...</td>\n      <td>Unknown</td>\n      <td>Unknown</td>\n      <td>Unknown</td>\n      <td>Unknown</td>\n      <td>Unknown</td>\n      <td>Unknown</td>\n      <td>Unknown</td>\n      <td>Unknown</td>\n      <td>Unknown</td>\n      <td>Unknown</td>\n    </tr>\n    <tr>\n      <th>17559</th>\n      <td>48488</td>\n      <td>Higurashi no Naku Koro ni Sotsu</td>\n      <td>Unknown</td>\n      <td>Mystery, Dementia, Horror, Psychological, Supe...</td>\n      <td>Higurashi:When They Cry – SOTSU</td>\n      <td>ひぐらしのなく頃に卒</td>\n      <td>TV</td>\n      <td>Unknown</td>\n      <td>Jul, 2021 to ?</td>\n      <td>Summer 2021</td>\n      <td>...</td>\n      <td>1.0</td>\n      <td>Unknown</td>\n      <td>Unknown</td>\n      <td>Unknown</td>\n      <td>Unknown</td>\n      <td>Unknown</td>\n      <td>Unknown</td>\n      <td>Unknown</td>\n      <td>Unknown</td>\n      <td>Unknown</td>\n    </tr>\n    <tr>\n      <th>17560</th>\n      <td>48491</td>\n      <td>Yama no Susume: Next Summit</td>\n      <td>Unknown</td>\n      <td>Adventure, Slice of Life, Comedy</td>\n      <td>Unknown</td>\n      <td>ヤマノススメ Next Summit</td>\n      <td>TV</td>\n      <td>Unknown</td>\n      <td>Unknown</td>\n      <td>Unknown</td>\n      <td>...</td>\n      <td>Unknown</td>\n      <td>Unknown</td>\n      <td>Unknown</td>\n      <td>Unknown</td>\n      <td>Unknown</td>\n      <td>Unknown</td>\n      <td>Unknown</td>\n      <td>Unknown</td>\n      <td>Unknown</td>\n      <td>Unknown</td>\n    </tr>\n    <tr>\n      <th>17561</th>\n      <td>48492</td>\n      <td>Scarlet Nexus</td>\n      <td>Unknown</td>\n      <td>Action, Fantasy</td>\n      <td>Unknown</td>\n      <td>SCARLET NEXUS</td>\n      <td>TV</td>\n      <td>Unknown</td>\n      <td>Jul, 2021 to ?</td>\n      <td>Summer 2021</td>\n      <td>...</td>\n      <td>Unknown</td>\n      <td>Unknown</td>\n      <td>Unknown</td>\n      <td>Unknown</td>\n      <td>Unknown</td>\n      <td>Unknown</td>\n      <td>Unknown</td>\n      <td>Unknown</td>\n      <td>Unknown</td>\n      <td>Unknown</td>\n    </tr>\n  </tbody>\n</table>\n<p>17562 rows × 35 columns</p>\n</div>"
     },
     "metadata": {},
     "output_type": "display_data"
    }
   ],
   "source": [
    "# Create a DataFrame and print a truncated sample of the data\n",
    "anime_list_df = pd.read_csv('../../../data/source/anime_list.csv')\n",
    "original_row_num = len(anime_list_df)\n",
    "display(anime_list_df)"
   ]
  },
  {
   "cell_type": "code",
   "execution_count": 3,
   "outputs": [
    {
     "name": "stdout",
     "output_type": "stream",
     "text": [
      "Original number of rows: 17562\n",
      "New number of rows: 16214\n",
      "Number of rows deleted: 1348 (7.68% of original)\n"
     ]
    }
   ],
   "source": [
    "# Compile a list of shows to remove and remove rows from the DataFrame\n",
    "row_filter = anime_list_df.Genres.str.contains('Hentai')\n",
    "removed_anime_list_df = anime_list_df[row_filter]\n",
    "anime_list_df = anime_list_df[~row_filter]\n",
    "\n",
    "# Create a new csv file out of the DataFrame\n",
    "anime_list_df.to_csv('../../../data/cleaned/anime_list.csv', index=False)\n",
    "\n",
    "# Print the truncated DataFrame and display statistics about the operation\n",
    "current_row_num = len(anime_list_df)\n",
    "rows_difference = original_row_num - current_row_num\n",
    "print(\"Original number of rows: \" + str(original_row_num) + \"\\nNew number of rows: \" + str(current_row_num) +\n",
    "      \"\\nNumber of rows deleted: \" + str(rows_difference) + \" (\" + str(round((rows_difference/original_row_num) * 100, 2)) + \"% of original)\")\n"
   ],
   "metadata": {
    "collapsed": false
   }
  },
  {
   "cell_type": "code",
   "execution_count": 13,
   "outputs": [
    {
     "data": {
      "text/plain": "165        188\n180        203\n188        211\n190        213\n191        214\n         ...  \n17358    44192\n17359    44193\n17360    44194\n17366    44211\n17545    48422\nName: MAL_ID, Length: 1348, dtype: int64"
     },
     "execution_count": 13,
     "metadata": {},
     "output_type": "execute_result"
    }
   ],
   "source": [
    "# Keep only the ID column\n",
    "removed_anime_ids = removed_anime_list_df['MAL_ID']\n",
    "removed_anime_ids"
   ],
   "metadata": {
    "collapsed": false
   }
  },
  {
   "cell_type": "code",
   "execution_count": 10,
   "outputs": [],
   "source": [
    "# Remove rows from the user ratings data which match the given ID's\n",
    "# for ...\n",
    "# user_ratings_df ="
   ],
   "metadata": {
    "collapsed": false
   }
  }
 ],
 "metadata": {
  "kernelspec": {
   "display_name": "Python 3 (ipykernel)",
   "language": "python",
   "name": "python3"
  },
  "language_info": {
   "codemirror_mode": {
    "name": "ipython",
    "version": 3
   },
   "file_extension": ".py",
   "mimetype": "text/x-python",
   "name": "python",
   "nbconvert_exporter": "python",
   "pygments_lexer": "ipython3",
   "version": "3.9.12"
  }
 },
 "nbformat": 4,
 "nbformat_minor": 5
}
