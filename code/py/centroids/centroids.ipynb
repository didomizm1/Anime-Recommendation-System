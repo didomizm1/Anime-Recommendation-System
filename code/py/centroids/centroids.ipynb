{
 "cells": [
  {
   "cell_type": "code",
   "execution_count": 1,
   "metadata": {
    "collapsed": true
   },
   "outputs": [
    {
     "name": "stdout",
     "output_type": "stream",
     "text": [
      "Pandas Version Number: 1.4.2\n"
     ]
    }
   ],
   "source": [
    "# Creates initial centroids for K-Means\n",
    "import pandas as pd\n",
    "import random\n",
    "print(\"Pandas Version Number: \" + pd.__version__)"
   ]
  },
  {
   "cell_type": "code",
   "execution_count": 2,
   "outputs": [
    {
     "data": {
      "text/plain": "     Action  Adventure      Cars    Comedy  Dementia    Demons     Drama  \\\n0  6.687314   4.152396  7.445140  8.882450  1.578542  9.567746  1.793231   \n1  2.818466   3.468898  2.006530  5.037986  9.519133  3.051208  9.744013   \n2  4.558144   7.197292  2.987307  3.660046  2.791296  7.334431  4.564577   \n3  9.224775   5.406985  9.279996  1.165477  4.423841  9.075988  8.028271   \n4  5.956835   8.801089  9.436271  2.519903  6.092437  1.001935  5.049811   \n5  8.253463   3.801238  3.341654  7.523089  5.644933  8.440930  9.563108   \n6  5.454791   6.142494  4.826550  6.117146  8.490945  8.283469  4.091858   \n\n      Ecchi   Fantasy      Game  ...  Shounen Ai  Slice of Life     Space  \\\n0  3.805459  6.826109  4.331809  ...    5.845124       5.560063  9.041976   \n1  9.573673  2.399238  9.724920  ...    9.927875       4.769233  3.810350   \n2  2.112238  1.429203  7.022860  ...    3.130180       6.827565  2.092232   \n3  6.008596  9.655466  3.693500  ...    4.464206       8.239921  7.223117   \n4  6.555164  7.613886  8.304410  ...    6.868176       4.677969  3.938163   \n5  7.240975  2.961657  9.440424  ...    4.967433       2.491831  9.408124   \n6  6.688598  9.324078  7.631389  ...    8.950130       5.090178  1.014535   \n\n     Sports  Super Power  Supernatural  Thriller   Unknown   Vampire      Yaoi  \n0  6.662267     9.490083      7.545016  1.513759  7.678586  5.956230  6.839953  \n1  1.348697     2.596973      8.546401  6.614850  1.072174  9.423567  1.417519  \n2  2.927295     6.293984      4.813284  4.021055  4.198448  3.989231  4.370282  \n3  1.617769     6.483355      1.964501  2.399529  6.123202  6.896429  6.530822  \n4  5.436559     9.949964      1.474788  2.167196  8.295116  6.634184  6.113126  \n5  1.629614     6.801751      8.649942  4.388430  6.362908  6.561074  9.490868  \n6  2.403891     3.790847      8.732261  4.978212  5.283622  3.396899  9.207547  \n\n[7 rows x 42 columns]",
      "text/html": "<div>\n<style scoped>\n    .dataframe tbody tr th:only-of-type {\n        vertical-align: middle;\n    }\n\n    .dataframe tbody tr th {\n        vertical-align: top;\n    }\n\n    .dataframe thead th {\n        text-align: right;\n    }\n</style>\n<table border=\"1\" class=\"dataframe\">\n  <thead>\n    <tr style=\"text-align: right;\">\n      <th></th>\n      <th>Action</th>\n      <th>Adventure</th>\n      <th>Cars</th>\n      <th>Comedy</th>\n      <th>Dementia</th>\n      <th>Demons</th>\n      <th>Drama</th>\n      <th>Ecchi</th>\n      <th>Fantasy</th>\n      <th>Game</th>\n      <th>...</th>\n      <th>Shounen Ai</th>\n      <th>Slice of Life</th>\n      <th>Space</th>\n      <th>Sports</th>\n      <th>Super Power</th>\n      <th>Supernatural</th>\n      <th>Thriller</th>\n      <th>Unknown</th>\n      <th>Vampire</th>\n      <th>Yaoi</th>\n    </tr>\n  </thead>\n  <tbody>\n    <tr>\n      <th>0</th>\n      <td>6.687314</td>\n      <td>4.152396</td>\n      <td>7.445140</td>\n      <td>8.882450</td>\n      <td>1.578542</td>\n      <td>9.567746</td>\n      <td>1.793231</td>\n      <td>3.805459</td>\n      <td>6.826109</td>\n      <td>4.331809</td>\n      <td>...</td>\n      <td>5.845124</td>\n      <td>5.560063</td>\n      <td>9.041976</td>\n      <td>6.662267</td>\n      <td>9.490083</td>\n      <td>7.545016</td>\n      <td>1.513759</td>\n      <td>7.678586</td>\n      <td>5.956230</td>\n      <td>6.839953</td>\n    </tr>\n    <tr>\n      <th>1</th>\n      <td>2.818466</td>\n      <td>3.468898</td>\n      <td>2.006530</td>\n      <td>5.037986</td>\n      <td>9.519133</td>\n      <td>3.051208</td>\n      <td>9.744013</td>\n      <td>9.573673</td>\n      <td>2.399238</td>\n      <td>9.724920</td>\n      <td>...</td>\n      <td>9.927875</td>\n      <td>4.769233</td>\n      <td>3.810350</td>\n      <td>1.348697</td>\n      <td>2.596973</td>\n      <td>8.546401</td>\n      <td>6.614850</td>\n      <td>1.072174</td>\n      <td>9.423567</td>\n      <td>1.417519</td>\n    </tr>\n    <tr>\n      <th>2</th>\n      <td>4.558144</td>\n      <td>7.197292</td>\n      <td>2.987307</td>\n      <td>3.660046</td>\n      <td>2.791296</td>\n      <td>7.334431</td>\n      <td>4.564577</td>\n      <td>2.112238</td>\n      <td>1.429203</td>\n      <td>7.022860</td>\n      <td>...</td>\n      <td>3.130180</td>\n      <td>6.827565</td>\n      <td>2.092232</td>\n      <td>2.927295</td>\n      <td>6.293984</td>\n      <td>4.813284</td>\n      <td>4.021055</td>\n      <td>4.198448</td>\n      <td>3.989231</td>\n      <td>4.370282</td>\n    </tr>\n    <tr>\n      <th>3</th>\n      <td>9.224775</td>\n      <td>5.406985</td>\n      <td>9.279996</td>\n      <td>1.165477</td>\n      <td>4.423841</td>\n      <td>9.075988</td>\n      <td>8.028271</td>\n      <td>6.008596</td>\n      <td>9.655466</td>\n      <td>3.693500</td>\n      <td>...</td>\n      <td>4.464206</td>\n      <td>8.239921</td>\n      <td>7.223117</td>\n      <td>1.617769</td>\n      <td>6.483355</td>\n      <td>1.964501</td>\n      <td>2.399529</td>\n      <td>6.123202</td>\n      <td>6.896429</td>\n      <td>6.530822</td>\n    </tr>\n    <tr>\n      <th>4</th>\n      <td>5.956835</td>\n      <td>8.801089</td>\n      <td>9.436271</td>\n      <td>2.519903</td>\n      <td>6.092437</td>\n      <td>1.001935</td>\n      <td>5.049811</td>\n      <td>6.555164</td>\n      <td>7.613886</td>\n      <td>8.304410</td>\n      <td>...</td>\n      <td>6.868176</td>\n      <td>4.677969</td>\n      <td>3.938163</td>\n      <td>5.436559</td>\n      <td>9.949964</td>\n      <td>1.474788</td>\n      <td>2.167196</td>\n      <td>8.295116</td>\n      <td>6.634184</td>\n      <td>6.113126</td>\n    </tr>\n    <tr>\n      <th>5</th>\n      <td>8.253463</td>\n      <td>3.801238</td>\n      <td>3.341654</td>\n      <td>7.523089</td>\n      <td>5.644933</td>\n      <td>8.440930</td>\n      <td>9.563108</td>\n      <td>7.240975</td>\n      <td>2.961657</td>\n      <td>9.440424</td>\n      <td>...</td>\n      <td>4.967433</td>\n      <td>2.491831</td>\n      <td>9.408124</td>\n      <td>1.629614</td>\n      <td>6.801751</td>\n      <td>8.649942</td>\n      <td>4.388430</td>\n      <td>6.362908</td>\n      <td>6.561074</td>\n      <td>9.490868</td>\n    </tr>\n    <tr>\n      <th>6</th>\n      <td>5.454791</td>\n      <td>6.142494</td>\n      <td>4.826550</td>\n      <td>6.117146</td>\n      <td>8.490945</td>\n      <td>8.283469</td>\n      <td>4.091858</td>\n      <td>6.688598</td>\n      <td>9.324078</td>\n      <td>7.631389</td>\n      <td>...</td>\n      <td>8.950130</td>\n      <td>5.090178</td>\n      <td>1.014535</td>\n      <td>2.403891</td>\n      <td>3.790847</td>\n      <td>8.732261</td>\n      <td>4.978212</td>\n      <td>5.283622</td>\n      <td>3.396899</td>\n      <td>9.207547</td>\n    </tr>\n  </tbody>\n</table>\n<p>7 rows × 42 columns</p>\n</div>"
     },
     "metadata": {},
     "output_type": "display_data"
    }
   ],
   "source": [
    "# k = number of clusters\n",
    "k = 7\n",
    "\n",
    "# d = number of dimensions; in this case, the number of genres\n",
    "d = 42\n",
    "\n",
    "# Generate random centroids\n",
    "centroids_df = pd.read_csv('../../../data/genres/genres.csv')\n",
    "\n",
    "for i in range(k):\n",
    "    # Add a random value to the centroid in each dimension\n",
    "    centroid = []\n",
    "    for j in range(d):\n",
    "        centroid.append(random.uniform(1, 10))\n",
    "\n",
    "    # Save centroid\n",
    "    centroids_df.loc[len(centroids_df)] = centroid\n",
    "\n",
    "display(centroids_df)"
   ],
   "metadata": {
    "collapsed": false
   }
  },
  {
   "cell_type": "code",
   "execution_count": 3,
   "outputs": [],
   "source": [
    "# Export to .csv file\n",
    "centroids_df.to_csv('../../../data/centroids/initial_centroids.csv', index=False)"
   ],
   "metadata": {
    "collapsed": false
   }
  }
 ],
 "metadata": {
  "kernelspec": {
   "display_name": "Python 3",
   "language": "python",
   "name": "python3"
  },
  "language_info": {
   "codemirror_mode": {
    "name": "ipython",
    "version": 2
   },
   "file_extension": ".py",
   "mimetype": "text/x-python",
   "name": "python",
   "nbconvert_exporter": "python",
   "pygments_lexer": "ipython2",
   "version": "2.7.6"
  }
 },
 "nbformat": 4,
 "nbformat_minor": 0
}
